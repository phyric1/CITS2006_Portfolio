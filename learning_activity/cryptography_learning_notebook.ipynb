{
 "cells": [
  {
   "cell_type": "markdown",
   "metadata": {},
   "source": [
    "# Cryptography Algorithms - Learning Activity\n",
    "\n",
    "In this notebook, you'll explore and implement various cryptographic algorithms including:\n",
    "- Caesar Cipher\n",
    "- Vigenere Cipher\n",
    "- Hash Functions\n",
    "- Symmetric Encryption (AES)\n",
    "- Asymmetric Encryption (RSA)\n",
    "\n",
    "You'll be guided through code examples and asked to complete specific tasks to reinforce your understanding."
   ]
  },
  {
   "cell_type": "markdown",
   "metadata": {},
   "source": [
    "## 1️. Caesar Cipher\n",
    "\n",
    "The Caesar cipher is one of the simplest and most widely known encryption techniques. The technique shifts each letter of the plaintext by a fixed number of positions in the alphabet.\n",
    "For example, if the shift is 3:\n",
    "- A → D\n",
    "- B → E\n",
    "- X → A (wraps around the alphabet)\n",
    "\n",
    "Each character is converted to its Unicode (ASCII) value. A shift is applied, and the result is converted back to a character. Non-alphabetic characters (like spaces or punctuation) are usually left unchanged."
   ]
  },
  {
   "cell_type": "code",
   "execution_count": null,
   "metadata": {},
   "outputs": [],
   "source": [
    "def caesar_encrypt(text, shift):\n",
    "    result = ''\n",
    "    for char in text:\n",
    "        if char.isalpha():\n",
    "            shift_base = ord('A') if char.isupper() else ord('a')\n",
    "            result += chr((ord(char) - shift_base + shift) % 26 + shift_base)\n",
    "        else:\n",
    "            result += char\n",
    "    return result"
   ]
  },
  {
   "cell_type": "code",
   "execution_count": null,
   "metadata": {},
   "outputs": [],
   "source": [
    "# Example usage of Caesar Cipher\n",
    "example = caesar_encrypt('ABC XYZ', 3)\n",
    "print('Example Caesar Cipher Output:', example)"
   ]
  },
  {
   "cell_type": "code",
   "execution_count": null,
   "metadata": {},
   "outputs": [],
   "source": [
    "# TODO: Call the function and print the result of encrypting 'HELLO WORLD' with a shift of 8"
   ]
  },
  {
   "cell_type": "markdown",
   "metadata": {},
   "source": [
    "## 2. Vigenere Cipher\n",
    "\n",
    "Each letter of the plaintext is shifted by an amount determined by the corresponding letter in a repeating keyword.\n",
    "- A in the key means shift by 0\n",
    "- B → shift by 1\n",
    "- Z → shift by 25\n",
    "\n",
    "If your message is \"HELLO\" and the keyword is \"KEY\", then the shift pattern is:\n",
    "H(+10), E(+4), L(+24), L(+10), O(+4)\n",
    "\n",
    "Implementation:\n",
    "- Loop over each character in the message.\n",
    "- Get the corresponding character from the key (repeating as needed).\n",
    "- Convert both to numbers, add then modulo 26, and convert back to a character.\n",
    "\n",
    "Use the provided function to encrypt `'HELLO WORLD'` using the keyword `'KEY'`."
   ]
  },
  {
   "cell_type": "code",
   "execution_count": 1,
   "metadata": {},
   "outputs": [],
   "source": [
    "def vigenere_encrypt(text, key):\n",
    "    result = ''\n",
    "    key = key.lower()\n",
    "    key_index = 0\n",
    "    for char in text:\n",
    "        if char.isalpha():\n",
    "            shift = ord(key[key_index % len(key)]) - ord('a')\n",
    "            shift_base = ord('A') if char.isupper() else ord('a')\n",
    "            result += chr((ord(char) - shift_base + shift) % 26 + shift_base)\n",
    "            key_index += 1\n",
    "        else:\n",
    "            result += char\n",
    "    return result"
   ]
  },
  {
   "cell_type": "code",
   "execution_count": null,
   "metadata": {},
   "outputs": [
    {
     "name": "stdout",
     "output_type": "stream",
     "text": [
      "Example Vigenère Cipher Output: RIJVS\n"
     ]
    }
   ],
   "source": [
    "# Example usage of Vigenère Cipher\n",
    "example = vigenere_encrypt('HELLO', 'KEY')\n",
    "print('Example Vigenère Cipher Output:', example)"
   ]
  },
  {
   "cell_type": "code",
   "execution_count": null,
   "metadata": {},
   "outputs": [],
   "source": [
    "# TODO: Encrypt 'HELLO WORLD' with the key 'CYBERSECURITY'"
   ]
  },
  {
   "cell_type": "markdown",
   "metadata": {},
   "source": [
    "## 3. Hash Functions\n",
    "\n",
    "Hash functions take an input and return a fixed-size string of bytes. They are one-way functions and are widely used for integrity verification.\n",
    "- SHA-256 always outputs 256 bits (64 hex characters).\n",
    "- The process involves complex bitwise operations, compression functions, and rounds of mixing input.\n",
    "\n",
    "Use SHA-256 to hash the string `'secure message'`."
   ]
  },
  {
   "cell_type": "code",
   "execution_count": null,
   "metadata": {},
   "outputs": [
    {
     "name": "stdout",
     "output_type": "stream",
     "text": [
      "SHA-256 of \"example\": 50d858e0985ecc7f60418aaf0cc5ab587f42c2570a884095a9e8ccacd0f6545c\n"
     ]
    }
   ],
   "source": [
    "# Example SHA-256 hash\n",
    "import hashlib\n",
    "example_hash = hashlib.sha256(b'example').hexdigest()\n",
    "print('SHA-256 of \"example\":', example_hash)"
   ]
  },
  {
   "cell_type": "code",
   "execution_count": null,
   "metadata": {},
   "outputs": [],
   "source": [
    "# TODO: Hash the string 'secure message' using SHA-256"
   ]
  },
  {
   "cell_type": "markdown",
   "metadata": {},
   "source": [
    "The hashlib library also contains other hashing, with varying levels of security and speed.\n",
    "Try to encrypt the string `secure message` again, but this time using `MD5`, another hash function, and compare the results."
   ]
  },
  {
   "cell_type": "code",
   "execution_count": null,
   "metadata": {},
   "outputs": [],
   "source": [
    "# TODO: Hash the string 'secure message' using MD5"
   ]
  },
  {
   "cell_type": "markdown",
   "metadata": {},
   "source": [
    "## 4. Symmetric Encryption (AES)\n",
    "\n",
    "AES (Advanced Encryption Standard) uses the same key for encryption and decryption. It operates on fixed block sizes and requires padding.\n",
    "\n",
    "How it works:\n",
    "1. Key Generation: 128-, 192-, or 256-bit key is randomly generated.\n",
    "2. Block Processing: Data is split into 128-bit blocks and padded if needed.\n",
    "3. Rounds of Substitution & Permutation: Each block goes through multiple rounds of transformation (substitution, shifting, mixing).\n",
    "3. Cipher Modes (e.g., CBC): Use an Initialization Vector (IV) to avoid repeating patterns in ciphertext.\n",
    "\n",
    "You'll need to:\n",
    "- Generate a 16-byte key and IV\n",
    "- Pad plaintext\n",
    "- Encrypt and decrypt using AES\n",
    "\n",
    "Use CBC mode for this task."
   ]
  },
  {
   "cell_type": "code",
   "execution_count": null,
   "metadata": {},
   "outputs": [],
   "source": [
    "# Example AES encryption and decryption (simplified)\n",
    "from Crypto.Cipher import AES\n",
    "from Crypto.Random import get_random_bytes\n",
    "from Crypto.Util.Padding import pad, unpad\n",
    "\n",
    "key = get_random_bytes(16)\n",
    "iv = get_random_bytes(16)\n",
    "cipher = AES.new(key, AES.MODE_CBC, iv)\n",
    "plaintext = b'This is secret!!'\n",
    "ciphertext = cipher.encrypt(pad(plaintext, 16))\n",
    "print('Encrypted (AES):', ciphertext)\n",
    "\n",
    "decipher = AES.new(key, AES.MODE_CBC, iv)\n",
    "decrypted = unpad(decipher.decrypt(ciphertext), 16)\n",
    "print('Decrypted (AES):', decrypted)"
   ]
  },
  {
   "cell_type": "code",
   "execution_count": null,
   "metadata": {},
   "outputs": [],
   "source": [
    "# TODO: Encrypt and decrypt a message using AES with your own key and message"
   ]
  },
  {
   "cell_type": "markdown",
   "metadata": {},
   "source": [
    "Experiment with changing some of the parameters and compare the results."
   ]
  },
  {
   "cell_type": "markdown",
   "metadata": {},
   "source": [
    "## 5. Asymmetric Encryption (RSA)\n",
    "\n",
    "RSA is based on the mathematical difficulty of factoring large numbers. It uses a public/private key pair:\n",
    "- Public Key: Used to encrypt messages.\n",
    "- Private Key: Used to decrypt. Only the key holder can read the message.\n",
    "\n",
    "You'll generate keys, encrypt a message, and decrypt it."
   ]
  },
  {
   "cell_type": "code",
   "execution_count": null,
   "metadata": {},
   "outputs": [],
   "source": [
    "# Example RSA encryption and decryption\n",
    "from Crypto.PublicKey import RSA\n",
    "from Crypto.Cipher import PKCS1_OAEP\n",
    "\n",
    "key = RSA.generate(2048)\n",
    "public_key = key.publickey()\n",
    "cipher_rsa = PKCS1_OAEP.new(public_key)\n",
    "ciphertext = cipher_rsa.encrypt(b'Secret Message')\n",
    "print('Encrypted (RSA):', ciphertext)\n",
    "\n",
    "decipher_rsa = PKCS1_OAEP.new(key)\n",
    "plaintext = decipher_rsa.decrypt(ciphertext)\n",
    "print('Decrypted (RSA):', plaintext)"
   ]
  },
  {
   "cell_type": "code",
   "execution_count": null,
   "metadata": {},
   "outputs": [],
   "source": [
    "# TODO: Generate RSA keys, encrypt and decrypt your own message"
   ]
  },
  {
   "cell_type": "markdown",
   "metadata": {},
   "source": [
    "Experiment with changing some of the parameters and compare the results."
   ]
  }
 ],
 "metadata": {
  "kernelspec": {
   "display_name": "Python 3",
   "language": "python",
   "name": "python3"
  },
  "language_info": {
   "codemirror_mode": {
    "name": "ipython",
    "version": 3
   },
   "file_extension": ".py",
   "mimetype": "text/x-python",
   "name": "python",
   "nbconvert_exporter": "python",
   "pygments_lexer": "ipython3",
   "version": "3.11.12"
  }
 },
 "nbformat": 4,
 "nbformat_minor": 2
}
